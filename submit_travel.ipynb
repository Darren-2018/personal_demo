{
 "cells": [
  {
   "cell_type": "code",
   "execution_count": 1,
   "metadata": {},
   "outputs": [],
   "source": [
    "#coding=utf-8\n",
    "from selenium import webdriver\n",
    "import random\n",
    "import time\n",
    "import re"
   ]
  },
  {
   "cell_type": "code",
   "execution_count": 2,
   "metadata": {},
   "outputs": [],
   "source": [
    "def creat_driver():\n",
    "    opt = webdriver.ChromeOptions()                 #创建浏览器\n",
    "    # opt.set_headless()                            #无窗口模式\n",
    "    driver = webdriver.Chrome(options=opt)          #创建浏览器对象\n",
    "    driver.maximize_window()   #设置浏览器大小：全屏\n",
    "    return driver"
   ]
  },
  {
   "cell_type": "code",
   "execution_count": 3,
   "metadata": {},
   "outputs": [],
   "source": [
    "# 登录同意信息网\n",
    "def sign_uniform(driver):\n",
    "    driver.find_element_by_id('un').clear()\n",
    "    driver.find_element_by_id('un').send_keys('***')            # 统一认证账号\n",
    "    driver.find_element_by_id('pd').clear()\n",
    "    driver.find_element_by_id('pd').send_keys('***')     # 统一认证密码\n",
    "    # 登录\n",
    "    driver.find_element_by_id('index_login_btn').click()\n",
    "    return driver"
   ]
  },
  {
   "cell_type": "code",
   "execution_count": 4,
   "metadata": {},
   "outputs": [
    {
     "data": {
      "text/plain": [
       "<selenium.webdriver.chrome.webdriver.WebDriver (session=\"09ee7c4a77395db4b0142038565d0543\")>"
      ]
     },
     "execution_count": 4,
     "metadata": {},
     "output_type": "execute_result"
    }
   ],
   "source": [
    "def input_normal_travel(driver):\n",
    "    select_button = driver.find_elements_by_class_name('el-radio__input')\n",
    "    # 本人填报\n",
    "    select_button[0].click()\n",
    "    # 目前身体状况正常\n",
    "    select_button[4].click()\n",
    "    # 当前位置是否有变化（未实现）\n",
    "    driver.find_elements_by_class_name('el-radio__inner')[12].click()\n",
    "    return driver"
   ]
  },
  {
   "cell_type": "code",
   "execution_count": 5,
   "metadata": {},
   "outputs": [],
   "source": [
    "def submit_travel():  \n",
    "    driver = creat_driver()\n",
    "    url = 'https://e-report.neu.edu.cn/mobile/notes/create'\n",
    "    driver.get(url)\n",
    "    sign_uniform(driver)\n",
    "    input_normal_travel(driver)\n",
    "    driver.quit()"
   ]
  },
  {
   "cell_type": "code",
   "execution_count": null,
   "metadata": {},
   "outputs": [],
   "source": [
    "# 提交行程信息\n",
    "submit_travel()"
   ]
  }
 ],
 "metadata": {
  "kernelspec": {
   "display_name": "Python 3",
   "language": "python",
   "name": "python3"
  },
  "language_info": {
   "codemirror_mode": {
    "name": "ipython",
    "version": 3
   },
   "file_extension": ".py",
   "mimetype": "text/x-python",
   "name": "python",
   "nbconvert_exporter": "python",
   "pygments_lexer": "ipython3",
   "version": "3.5.4"
  }
 },
 "nbformat": 4,
 "nbformat_minor": 4
}
